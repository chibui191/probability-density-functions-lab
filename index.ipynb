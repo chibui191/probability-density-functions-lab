{
 "cells": [
  {
   "cell_type": "markdown",
   "metadata": {},
   "source": [
    "# The Probability Density Function - Lab\n",
    "\n",
    "## Introduction\n",
    "In this lab, we will look at building visualizations known as **density plots** to estimate the probability density for a given set of data. \n",
    "\n",
    "## Objectives\n",
    "\n",
    "You will be able to:\n",
    "\n",
    "* Plot and interpret density plots and comment on the shape of the plot\n",
    "* Estimate probabilities for continuous variables by using interpolation \n",
    "\n",
    "\n",
    "## Let's get started\n",
    "\n",
    "Let's import the necessary libraries for this lab."
   ]
  },
  {
   "cell_type": "code",
   "execution_count": null,
   "metadata": {},
   "outputs": [],
   "source": [
    "# Import required libraries\n",
    "import numpy as np\n",
    "import matplotlib.pyplot as plt\n",
    "plt.style.use('ggplot')\n",
    "import pandas as pd "
   ]
  },
  {
   "cell_type": "markdown",
   "metadata": {},
   "source": [
    "## Import the data, and calculate the mean and the standard deviation\n",
    "\n",
    "- Import the dataset 'weight-height.csv' as a pandas dataframe.\n",
    "\n",
    "- Next, calculate the mean and standard deviation for weights and heights for men and women individually. You can simply use the pandas `.mean()` and `.std()` to do so.\n",
    "\n",
    "**Hint**: Use your pandas dataframe subsetting skills like `loc()`, `iloc()`, and `groupby()`"
   ]
  },
  {
   "cell_type": "code",
   "execution_count": null,
   "metadata": {},
   "outputs": [],
   "source": [
    "data = pd.read_csv('weight-height.csv')\n",
    "male_df =  data[data.Gender == 'Male']\n",
    "female_df =  data[data.Gender == 'Female']\n",
    "\n",
    "m_height_mean = male_df.Height.mean()\n",
    "m_height_sd = male_df.Height.std()\n",
    "m_weight_mean = male_df.Weight.mean()\n",
    "m_weight_sd = male_df.Weight.std()\n",
    "\n",
    "f_height_mean = female_df.Height.mean()\n",
    "f_height_sd = female_df.Height.std()\n",
    "f_weight_mean = female_df.Weight.mean()\n",
    "f_weight_sd = female_df.Weight.std()\n",
    "\n",
    "# Male Height mean: 69.02634590621737\n",
    "# Male Height sd: 2.8633622286606517\n",
    "# Male Weight mean: 187.0206206581929\n",
    "# Male Weight sd: 19.781154516763813\n",
    "# Female Height mean: 63.708773603424916\n",
    "# Female Height sd: 2.696284015765056\n",
    "# Female Weight mean: 135.8600930074687\n",
    "# Female Weight sd: 19.022467805319007\n",
    "\n",
    "print('Male Height mean: ', m_height_mean)\n",
    "print('Male Height sd: ', m_height_sd)\n",
    "\n",
    "print('Male Weight mean: ', m_weight_mean)\n",
    "print('Male Weight sd: ', m_weight_sd)\n",
    "\n",
    "print('Female Height mean: ', f_height_mean)\n",
    "print('Female Height sd: ', f_height_sd)\n",
    "\n",
    "print('Female Weight mean: ', f_weight_mean)\n",
    "print('Female Weight sd: ', f_weight_sd)"
   ]
  },
  {
   "cell_type": "markdown",
   "metadata": {},
   "source": [
    "## Plot histograms (with densities on the y-axis) for male and female heights \n",
    "\n",
    "- Make sure to create overlapping plots\n",
    "- Use binsize = 10, set alpha level so that overlap can be visualized"
   ]
  },
  {
   "cell_type": "code",
   "execution_count": null,
   "metadata": {},
   "outputs": [],
   "source": [
    "import seaborn as sns"
   ]
  },
  {
   "cell_type": "code",
   "execution_count": null,
   "metadata": {},
   "outputs": [],
   "source": [
    "binsize = 10\n",
    "male_df.Height.plot.hist(bins=binsize, density=True, label=\"Male Height\", alpha=0.6)\n",
    "female_df.Height.plot.hist(bins=binsize, density=True, label=\"Female Height\", alpha=0.6)\n",
    "plt.legend()\n",
    "plt.show();"
   ]
  },
  {
   "cell_type": "code",
   "execution_count": null,
   "metadata": {},
   "outputs": [],
   "source": [
    "# Record your observations - are these inline with your personal observations?\n",
    "# mean Male Height (around 69-70) > mean Female Height (around 63-64)\n",
    "# Male's Height have slightly wider spread, along with taller and smaller peak\n",
    "# The most common height overlap for both sexes is around 65-68\n",
    "# Both Male & Female Height are normally distributed"
   ]
  },
  {
   "cell_type": "markdown",
   "metadata": {},
   "source": [
    "## Create a density function using interpolation\n",
    "\n",
    "\n",
    "- Write a density function density() that uses interpolation and takes in a random variable\n",
    "- Use `np.histogram()`\n",
    "- The function should return two lists carrying x and y coordinates for plotting the density function"
   ]
  },
  {
   "cell_type": "code",
   "execution_count": null,
   "metadata": {},
   "outputs": [],
   "source": [
    "def density(x):\n",
    "    n, bins = np.histogram(x, binsize, density=1)\n",
    "    pdfx = np.zeros(n.size)\n",
    "    pdfy = np.zeros(n.size)\n",
    "    \n",
    "    for k in range(n.size):\n",
    "        pdfx[k] = (bins[k] + bins[k+1])/2\n",
    "        pdfy[k] = n[k]\n",
    "        \n",
    "    return pdfx, pdfy\n",
    "\n",
    "# Generate test data and test the function - uncomment to run the test\n",
    "np.random.seed(5)\n",
    "mu, sigma = 0, 0.1 # mean and standard deviation\n",
    "s = np.random.normal(mu, sigma, 100)\n",
    "x,y = density(s)\n",
    "plt.plot(x,y, label = 'test')\n",
    "plt.legend()"
   ]
  },
  {
   "cell_type": "markdown",
   "metadata": {},
   "source": [
    "## Add overlapping density plots to the histograms plotted earlier"
   ]
  },
  {
   "cell_type": "code",
   "execution_count": null,
   "metadata": {},
   "outputs": [],
   "source": [
    "male_df.Height.plot.hist(bins=binsize, density=True, label=\"Male Height\", alpha=0.6)\n",
    "female_df.Height.plot.hist(bins=binsize, density=True, label=\"Female Height\", alpha=0.6)\n",
    "\n",
    "mx, my = density(male_df.Height)\n",
    "fx, fy = density(female_df.Height)\n",
    "plt.plot(mx, my)\n",
    "plt.plot(fx, fy)\n",
    "plt.legend()\n",
    "plt.show();"
   ]
  },
  {
   "cell_type": "markdown",
   "metadata": {},
   "source": [
    "## Repeat the above exercise for male and female weights"
   ]
  },
  {
   "cell_type": "code",
   "execution_count": null,
   "metadata": {},
   "outputs": [],
   "source": [
    "male_df.Weight.plot.hist(bins=binsize, density=True, label=\"Male Weight\", alpha=0.6)\n",
    "female_df.Weight.plot.hist(bins=binsize, density=True, label=\"Female Weight\", alpha=0.6)\n",
    "\n",
    "mx, my = density(male_df.Weight)\n",
    "fx, fy = density(female_df.Weight)\n",
    "plt.plot(mx, my)\n",
    "plt.plot(fx, fy)\n",
    "plt.legend()\n",
    "plt.show();"
   ]
  },
  {
   "cell_type": "markdown",
   "metadata": {},
   "source": [
    "## Write your observations in the cell below"
   ]
  },
  {
   "cell_type": "code",
   "execution_count": null,
   "metadata": {},
   "outputs": [],
   "source": [
    "# Record your observations - are these inline with your personal observations?\n",
    "# mean Male Weight (around 187) > mean Female Weight (around 163)\n",
    "# Male's Weight have slightly wider spread, along with taller and smaller peak\n",
    "# The most common height overlap for both sexes is around 160\n",
    "# Both Male & Female Height are normally distributed\n",
    "\n",
    "# What is the takeaway when comparing male and female heights and weights?\n",
    "# Weight overlap is smaller --> more suitable to distinguish between males & females"
   ]
  },
  {
   "cell_type": "markdown",
   "metadata": {},
   "source": [
    "## Repeat the above experiments in seaborn and compare with your results"
   ]
  },
  {
   "cell_type": "code",
   "execution_count": null,
   "metadata": {},
   "outputs": [],
   "source": [
    "fig, ax = plt.subplots()\n",
    "sns.distplot(male_df.Height,\n",
    "             hist=True, hist_kws={\"alpha\": 0.5,\n",
    "                                  \"label\": \"Male Height\"},\n",
    "             kde=True, kde_kws={\"alpha\": 0.5}\n",
    "            )\n",
    "\n",
    "sns.distplot(female_df.Height,\n",
    "             hist=True, hist_kws={\"alpha\": 0.5,\n",
    "                                  \"label\": \"Female Height\"},\n",
    "             kde=True, kde_kws={\"alpha\": 0.5})\n",
    "\n",
    "ax.set_title(\"Comparing Heights\")\n",
    "plt.show();"
   ]
  },
  {
   "cell_type": "code",
   "execution_count": null,
   "metadata": {},
   "outputs": [],
   "source": [
    "fig, ax = plt.subplots()\n",
    "sns.distplot(male_df.Weight,\n",
    "             hist=True, hist_kws={\"alpha\": 0.5,\n",
    "                                  \"label\": \"Male Weight\"},\n",
    "             kde=True, kde_kws={\"alpha\": 0.5}\n",
    "            )\n",
    "\n",
    "sns.distplot(female_df.Weight,\n",
    "             hist=True, hist_kws={\"alpha\": 0.5,\n",
    "                                  \"label\": \"Female Weight\"},\n",
    "             kde=True, kde_kws={\"alpha\": 0.5})\n",
    "\n",
    "ax.set_title(\"Comparing Weights\")\n",
    "plt.legend()\n",
    "plt.show();"
   ]
  },
  {
   "cell_type": "code",
   "execution_count": null,
   "metadata": {},
   "outputs": [],
   "source": [
    "# Your comments on the two approaches here. \n",
    "# are they similar? what makes them different if they are?\n",
    "# It looks like the shape of the kdes of both approaches are very similar, with seaborn kde looks smoother\n",
    "# probably because of binsize. If we increase number of bins in first method interpolation, it will resemble \n",
    "# seaborn plots more."
   ]
  },
  {
   "cell_type": "markdown",
   "metadata": {},
   "source": [
    "## Summary\n",
    "\n",
    "In this lesson, you learned how to build the probability density curves visually for a given dataset and compare the distributions visually by looking at the spread, center, and overlap. This is a useful EDA technique and can be used to answer some initial questions before embarking on a complex analytics journey."
   ]
  }
 ],
 "metadata": {
  "kernelspec": {
   "display_name": "Python 3",
   "language": "python",
   "name": "python3"
  },
  "language_info": {
   "codemirror_mode": {
    "name": "ipython",
    "version": 3
   },
   "file_extension": ".py",
   "mimetype": "text/x-python",
   "name": "python",
   "nbconvert_exporter": "python",
   "pygments_lexer": "ipython3",
   "version": "3.8.5"
  },
  "toc": {
   "base_numbering": 1,
   "nav_menu": {},
   "number_sections": true,
   "sideBar": true,
   "skip_h1_title": false,
   "title_cell": "Table of Contents",
   "title_sidebar": "Contents",
   "toc_cell": false,
   "toc_position": {},
   "toc_section_display": true,
   "toc_window_display": false
  }
 },
 "nbformat": 4,
 "nbformat_minor": 2
}
